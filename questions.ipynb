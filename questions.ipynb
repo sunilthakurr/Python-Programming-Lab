{
 "cells": [
  {
   "cell_type": "markdown",
   "metadata": {},
   "source": [
    "01. Write a python program to read entire text file."
   ]
  },
  {
   "cell_type": "code",
   "execution_count": 1,
   "metadata": {},
   "outputs": [
    {
     "name": "stdout",
     "output_type": "stream",
     "text": [
      "My name is Sunil Kumar.\n",
      "I am from Samastipur, bihar\n",
      "I like coding and play online games\n",
      "\n"
     ]
    }
   ],
   "source": [
    "with open('test.txt') as f:\n",
    "    print(f.read())"
   ]
  },
  {
   "cell_type": "markdown",
   "metadata": {},
   "source": [
    "02. Write a python program to read first n linses of a file."
   ]
  },
  {
   "cell_type": "code",
   "execution_count": 3,
   "metadata": {},
   "outputs": [
    {
     "name": "stdout",
     "output_type": "stream",
     "text": [
      "My name is Sunil Kumar.\n",
      "\n",
      "I am from Samastipur, bihar\n",
      "\n",
      "I like coding and play online games\n",
      "\n",
      "Currently I am studying in gla university, \n",
      "\n"
     ]
    }
   ],
   "source": [
    "with open('test.txt') as f:\n",
    "    n = int(input(\"Enter no. of lines you want to read\"))\n",
    "    lst = f.readlines()\n",
    "    for line in range(n):\n",
    "        print(lst[line])"
   ]
  },
  {
   "cell_type": "code",
   "execution_count": 4,
   "metadata": {},
   "outputs": [
    {
     "name": "stdout",
     "output_type": "stream",
     "text": [
      "My name is Sunil Kumar\n",
      "\n",
      "Hello everyone\n",
      "\n",
      "my name is Sunil kumar \n",
      "\n",
      "and i am pro\n",
      "\n"
     ]
    }
   ],
   "source": [
    "with open('trial2.txt') as f:\n",
    "    n = int(input('Enter the no. of lines'))\n",
    "    lst = f.readlines()\n",
    "    for i in range(n):\n",
    "        print(lst[i])"
   ]
  },
  {
   "cell_type": "markdown",
   "metadata": {},
   "source": [
    "3. Write a python program to append text to a file and display the text."
   ]
  },
  {
   "cell_type": "code",
   "execution_count": 2,
   "metadata": {},
   "outputs": [],
   "source": [
    "with open('test.txt','a') as f:\n",
    "    f.write('''\\nCurrently I am studying in glauniversity, \n",
    "    Mathura,U.P\\n''')\n",
    "with open('test.txt') as g:\n",
    "    g.read()"
   ]
  },
  {
   "cell_type": "code",
   "execution_count": 8,
   "metadata": {},
   "outputs": [
    {
     "name": "stdout",
     "output_type": "stream",
     "text": [
      "My name is Sunil Kumar\n",
      "Hello everyone\n",
      "my name is Sunil kumar \n",
      "and i am pro\n",
      "hello world\n",
      "rachit\n",
      "good morninggood morning\n"
     ]
    }
   ],
   "source": [
    "with open('trial2.txt','a') as f:\n",
    "    f.write('good morning')\n",
    "\n",
    "with open('trial2.txt') as f:\n",
    "    print(f.read())\n"
   ]
  },
  {
   "cell_type": "markdown",
   "metadata": {},
   "source": [
    "4. Write a python program to read last n lines of a file."
   ]
  },
  {
   "cell_type": "code",
   "execution_count": 17,
   "metadata": {},
   "outputs": [
    {
     "name": "stdout",
     "output_type": "stream",
     "text": [
      "Currently I am studying in glauniversity, \n",
      "\n",
      "    Mathura,U.P\n",
      "\n"
     ]
    }
   ],
   "source": [
    "with open('test.txt') as f:\n",
    "    ls = f.readlines()\n",
    "    n = int(input(\"Enter no. of lines you want to display\"))\n",
    "    a = len(ls) - n\n",
    "    for i in ls[a:]:\n",
    "        print(i)\n"
   ]
  },
  {
   "cell_type": "code",
   "execution_count": null,
   "metadata": {},
   "outputs": [],
   "source": [
    "with open('trial.txt') as f:\n",
    "    n = int(input())\n",
    "    "
   ]
  },
  {
   "cell_type": "code",
   "execution_count": 15,
   "metadata": {},
   "outputs": [
    {
     "name": "stdout",
     "output_type": "stream",
     "text": [
      "olleh dlrow\n"
     ]
    }
   ],
   "source": [
    "a = 'hello world'\n",
    "a = a[::-1]\n",
    "a = a.split()\n",
    "a = a[::-1]\n",
    "a = \" \".join(a)\n",
    "print(a)"
   ]
  },
  {
   "cell_type": "markdown",
   "metadata": {},
   "source": [
    "5. Write a Python program to read a file line by line and store it into a list."
   ]
  },
  {
   "cell_type": "code",
   "execution_count": 11,
   "metadata": {},
   "outputs": [
    {
     "name": "stdout",
     "output_type": "stream",
     "text": [
      "['My name is Sunil Kumar.\\n', 'I am from Samastipur, bihar\\n', 'I like coding and play online games\\n', 'Currently I am studying in gla university, \\n', 'Mathura,U.PCurrently I am studying in gla university, \\n', '    Mathura,U.PCurrently I am studying in gla university, \\n', '    Mathura,U.PCurrently I am studying in gla university, \\n', '    Mathura,U.PCurrently I am studying in gla university, \\n', '    Mathura,U.P\\n', '\\n', 'Currently I am studying in gla university, \\n', '    Mathura,U.P\\n']\n"
     ]
    }
   ],
   "source": [
    "with open('test.txt') as f:\n",
    "    lst = f.readlines()\n",
    "    print(lst)"
   ]
  },
  {
   "cell_type": "markdown",
   "metadata": {},
   "source": [
    "6. Write a Python program to read a file line by line store it into a variabe."
   ]
  },
  {
   "cell_type": "code",
   "execution_count": 12,
   "metadata": {},
   "outputs": [
    {
     "name": "stdout",
     "output_type": "stream",
     "text": [
      "['My name is Sunil Kumar.\\n', 'I am from Samastipur, bihar\\n', 'I like coding and play online games\\n', 'Currently I am studying in gla university, \\n', 'Mathura,U.PCurrently I am studying in gla university, \\n', '    Mathura,U.PCurrently I am studying in gla university, \\n', '    Mathura,U.PCurrently I am studying in gla university, \\n', '    Mathura,U.PCurrently I am studying in gla university, \\n', '    Mathura,U.P\\n', '\\n', 'Currently I am studying in gla university, \\n', '    Mathura,U.P\\n']\n"
     ]
    }
   ],
   "source": [
    "with open('test.txt') as f:\n",
    "    file = f.readlines()\n",
    "    print(file)"
   ]
  },
  {
   "cell_type": "markdown",
   "metadata": {},
   "source": [
    "7. Write a python program to read a file line by line store it into an array."
   ]
  },
  {
   "cell_type": "code",
   "execution_count": 2,
   "metadata": {},
   "outputs": [
    {
     "name": "stdout",
     "output_type": "stream",
     "text": [
      "['My name is Sunil Kumar.\\n', 'I am from Samastipur, bihar\\n', 'I like coding and play online games\\n', 'Currently I am studying in gla university, \\n', 'Mathura,U.PCurrently I am studying in gla university, \\n', '    Mathura,U.PCurrently I am studying in gla university, \\n', '    Mathura,U.PCurrently I am studying in gla university, \\n', '    Mathura,U.PCurrently I am studying in gla university, \\n', '    Mathura,U.P\\n', '\\n', 'Currently I am studying in gla university, \\n', '    Mathura,U.P\\n']\n"
     ]
    }
   ],
   "source": [
    "import numpy as np:\n",
    "with open('test.txt') as f:\n",
    "    arr = []\n",
    "    for line in f:\n",
    "        arr.append(line)\n",
    "    print(arr)"
   ]
  },
  {
   "cell_type": "code",
   "execution_count": null,
   "metadata": {},
   "outputs": [],
   "source": []
  },
  {
   "cell_type": "markdown",
   "metadata": {},
   "source": [
    "8 . Write a python program to find longest words."
   ]
  },
  {
   "cell_type": "code",
   "execution_count": 6,
   "metadata": {},
   "outputs": [
    {
     "name": "stdout",
     "output_type": "stream",
     "text": [
      "['My', 'name', 'is', 'Sunil', 'Kumar.', 'I', 'am', 'from', 'Samastipur,', 'bihar', 'I', 'like', 'coding', 'and', 'play', 'online', 'games', 'Currently', 'I', 'am', 'studying', 'in', 'gla', 'university,', 'Mathura,U.PCurrently', 'I', 'am', 'studying', 'in', 'gla', 'university,', 'Mathura,U.PCurrently', 'I', 'am', 'studying', 'in', 'gla', 'university,', 'Mathura,U.PCurrently', 'I', 'am', 'studying', 'in', 'gla', 'university,', 'Mathura,U.PCurrently', 'I', 'am', 'studying', 'in', 'gla', 'university,', 'Mathura,U.P', 'Currently', 'I', 'am', 'studying', 'in', 'gla', 'university,', 'Mathura,U.P']\n",
      "Mathura,U.PCurrently\n"
     ]
    }
   ],
   "source": [
    "with open('test.txt') as f:\n",
    "    str = f.read()\n",
    "    words = str.split()\n",
    "    max_len = len(max(words, key=len))\n",
    "    for i in words:\n",
    "        if len(i)==max_len:\n",
    "            longest_word =i\n",
    "         \n",
    "    print(longest_word)"
   ]
  },
  {
   "cell_type": "code",
   "execution_count": 21,
   "metadata": {},
   "outputs": [
    {
     "ename": "NameError",
     "evalue": "name 'z' is not defined",
     "output_type": "error",
     "traceback": [
      "\u001b[1;31m---------------------------------------------------------------------------\u001b[0m",
      "\u001b[1;31mNameError\u001b[0m                                 Traceback (most recent call last)",
      "\u001b[1;32md:\\python\\function\\file_handling\\questions.ipynb Cell 22'\u001b[0m in \u001b[0;36m<cell line: 2>\u001b[1;34m()\u001b[0m\n\u001b[0;32m      <a href='vscode-notebook-cell:/d%3A/python/function/file_handling/questions.ipynb#ch0000047?line=0'>1</a>\u001b[0m \u001b[39m# a = int(input())\u001b[39;00m\n\u001b[1;32m----> <a href='vscode-notebook-cell:/d%3A/python/function/file_handling/questions.ipynb#ch0000047?line=1'>2</a>\u001b[0m \u001b[39mprint\u001b[39m(z)\n",
      "\u001b[1;31mNameError\u001b[0m: name 'z' is not defined"
     ]
    }
   ],
   "source": [
    "# a = int(input())\n",
    "print(z)"
   ]
  },
  {
   "cell_type": "markdown",
   "metadata": {},
   "source": [
    "9. Write a Python program to count the number of lines in a text file."
   ]
  },
  {
   "cell_type": "code",
   "execution_count": 5,
   "metadata": {},
   "outputs": [
    {
     "name": "stdout",
     "output_type": "stream",
     "text": [
      "12\n"
     ]
    }
   ],
   "source": [
    "with open('test.txt') as f:\n",
    "    lst = []\n",
    "    lst = f.readlines()\n",
    "    print(len(lst))"
   ]
  },
  {
   "cell_type": "markdown",
   "metadata": {},
   "source": [
    "10. Write a python program to count the frequency of words in a file"
   ]
  },
  {
   "cell_type": "code",
   "execution_count": null,
   "metadata": {},
   "outputs": [],
   "source": []
  },
  {
   "cell_type": "markdown",
   "metadata": {},
   "source": [
    "11. Write a Python program to get the file size of a plane file."
   ]
  },
  {
   "cell_type": "code",
   "execution_count": 11,
   "metadata": {},
   "outputs": [
    {
     "name": "stdout",
     "output_type": "stream",
     "text": [
      "size of file is 453 byte\n"
     ]
    }
   ],
   "source": [
    "import os\n",
    "statinfo = os.stat('test.txt')\n",
    "print(f'size of file is {statinfo.st_size} byte')"
   ]
  },
  {
   "cell_type": "markdown",
   "metadata": {},
   "source": [
    "12. Write a python program to write a list to a file"
   ]
  },
  {
   "cell_type": "code",
   "execution_count": 16,
   "metadata": {},
   "outputs": [
    {
     "name": "stdout",
     "output_type": "stream",
     "text": [
      "6\n"
     ]
    }
   ],
   "source": [
    "from functools import reduce\n",
    "lst = [1,2,3]\n",
    "\n",
    "sum = reduce(lambda x, y: x+y, lst)\n",
    "print(sum)"
   ]
  },
  {
   "cell_type": "markdown",
   "metadata": {},
   "source": [
    "13. Write a python program to copy the contents of a file to another file."
   ]
  },
  {
   "cell_type": "code",
   "execution_count": 13,
   "metadata": {},
   "outputs": [],
   "source": [
    "with open('test.txt') as f,open('test2.txt','w') as g:\n",
    "    lst = []\n",
    "    lst = f.readlines()\n",
    "    for line in lst:\n",
    "        g.write(line)\n"
   ]
  },
  {
   "cell_type": "markdown",
   "metadata": {},
   "source": [
    "14. Write a python program to combine each line from first file with the corresponding line in second file"
   ]
  },
  {
   "cell_type": "code",
   "execution_count": 14,
   "metadata": {},
   "outputs": [
    {
     "name": "stdout",
     "output_type": "stream",
     "text": [
      "My name is Sunil Kumar.\n",
      "My name is Sunil Kumar.\n",
      "\n",
      "I am from Samastipur, bihar\n",
      "I am from Samastipur, bihar\n",
      "\n",
      "I like coding and play online games\n",
      "I like coding and play online games\n",
      "\n",
      "Currently I am studying in gla university, \n",
      "Currently I am studying in gla university, \n",
      "\n",
      "Mathura,U.PCurrently I am studying in gla university, \n",
      "Mathura,U.PCurrently I am studying in gla university, \n",
      "\n",
      "    Mathura,U.PCurrently I am studying in gla university, \n",
      "    Mathura,U.PCurrently I am studying in gla university, \n",
      "\n",
      "    Mathura,U.PCurrently I am studying in gla university, \n",
      "    Mathura,U.PCurrently I am studying in gla university, \n",
      "\n",
      "    Mathura,U.PCurrently I am studying in gla university, \n",
      "    Mathura,U.PCurrently I am studying in gla university, \n",
      "\n",
      "    Mathura,U.P\n",
      "    Mathura,U.P\n",
      "\n",
      "\n",
      "\n",
      "\n",
      "Currently I am studying in gla university, \n",
      "Currently I am studying in gla university, \n",
      "\n",
      "    Mathura,U.P\n",
      "    Mathura,U.P\n",
      "\n"
     ]
    }
   ],
   "source": [
    "with open('test.txt') as f,open('test2.txt') as g:\n",
    "    for line1,line2 in zip(f,g):\n",
    "        print(line1+line2)"
   ]
  },
  {
   "cell_type": "markdown",
   "metadata": {},
   "source": [
    "15. Write a python program to read random line from a file."
   ]
  },
  {
   "cell_type": "code",
   "execution_count": 15,
   "metadata": {},
   "outputs": [
    {
     "name": "stdout",
     "output_type": "stream",
     "text": [
      "I am from Samastipur, bihar\n"
     ]
    }
   ],
   "source": [
    "import random\n",
    "with open('test.txt') as f:\n",
    "    lines = f.read().splitlines()\n",
    "    print(random.choice(lines))\n"
   ]
  },
  {
   "cell_type": "markdown",
   "metadata": {},
   "source": [
    "16. Write a python program to assess if a file is closed or not."
   ]
  },
  {
   "cell_type": "code",
   "execution_count": 17,
   "metadata": {},
   "outputs": [
    {
     "name": "stdout",
     "output_type": "stream",
     "text": [
      "False\n",
      "True\n"
     ]
    }
   ],
   "source": [
    "a = open('test.txt')\n",
    "print(a.closed)\n",
    "a.close()\n",
    "print(a.closed)"
   ]
  },
  {
   "cell_type": "markdown",
   "metadata": {},
   "source": [
    "16. Write a python program to remove newline characters from a file."
   ]
  },
  {
   "cell_type": "markdown",
   "metadata": {},
   "source": [
    " DOUBT"
   ]
  },
  {
   "cell_type": "code",
   "execution_count": null,
   "metadata": {},
   "outputs": [],
   "source": []
  },
  {
   "cell_type": "code",
   "execution_count": 24,
   "metadata": {},
   "outputs": [
    {
     "name": "stdout",
     "output_type": "stream",
     "text": [
      "['My name is Sunil Kumar.\\n', 'I am from Samastipur, bihar\\n', 'I like coding and play online games\\n', 'Currently I am studying in gla university, \\n', 'Mathura,U.PCurrently I am studying in gla university, \\n', '    Mathura,U.PCurrently I am studying in gla university, \\n', '    Mathura,U.PCurrently I am studying in gla university, \\n', '    Mathura,U.PCurrently I am studying in gla university, \\n', '    Mathura,U.P\\n', '\\n', 'Currently I am studying in gla university, \\n', '    Mathura,U.P\\n']\n",
      "['My name is Sunil Kumar.\\n', 'I am from Samastipur, bihar\\n', 'I like coding and play online games\\n', 'Currently I am studying in gla university, \\n', 'Mathura,U.PCurrently I am studying in gla university, \\n', '    Mathura,U.PCurrently I am studying in gla university, \\n', '    Mathura,U.PCurrently I am studying in gla university, \\n', '    Mathura,U.PCurrently I am studying in gla university, \\n', '    Mathura,U.P\\n', '\\n', 'Currently I am studying in gla university, \\n', '    Mathura,U.P\\n']\n",
      "['My name is Sunil Kumar.\\n', 'I am from Samastipur, bihar\\n', 'I like coding and play online games\\n', 'Currently I am studying in gla university, \\n', 'Mathura,U.PCurrently I am studying in gla university, \\n', '    Mathura,U.PCurrently I am studying in gla university, \\n', '    Mathura,U.PCurrently I am studying in gla university, \\n', '    Mathura,U.PCurrently I am studying in gla university, \\n', '    Mathura,U.P\\n', '\\n', 'Currently I am studying in gla university, \\n', '    Mathura,U.P\\n']\n",
      "['My name is Sunil Kumar.\\n', 'I am from Samastipur, bihar\\n', 'I like coding and play online games\\n', 'Currently I am studying in gla university, \\n', 'Mathura,U.PCurrently I am studying in gla university, \\n', '    Mathura,U.PCurrently I am studying in gla university, \\n', '    Mathura,U.PCurrently I am studying in gla university, \\n', '    Mathura,U.PCurrently I am studying in gla university, \\n', '    Mathura,U.P\\n', '\\n', 'Currently I am studying in gla university, \\n', '    Mathura,U.P\\n']\n",
      "['My name is Sunil Kumar.\\n', 'I am from Samastipur, bihar\\n', 'I like coding and play online games\\n', 'Currently I am studying in gla university, \\n', 'Mathura,U.PCurrently I am studying in gla university, \\n', '    Mathura,U.PCurrently I am studying in gla university, \\n', '    Mathura,U.PCurrently I am studying in gla university, \\n', '    Mathura,U.PCurrently I am studying in gla university, \\n', '    Mathura,U.P\\n', '\\n', 'Currently I am studying in gla university, \\n', '    Mathura,U.P\\n']\n",
      "['My name is Sunil Kumar.\\n', 'I am from Samastipur, bihar\\n', 'I like coding and play online games\\n', 'Currently I am studying in gla university, \\n', 'Mathura,U.PCurrently I am studying in gla university, \\n', '    Mathura,U.PCurrently I am studying in gla university, \\n', '    Mathura,U.PCurrently I am studying in gla university, \\n', '    Mathura,U.PCurrently I am studying in gla university, \\n', '    Mathura,U.P\\n', '\\n', 'Currently I am studying in gla university, \\n', '    Mathura,U.P\\n']\n",
      "['My name is Sunil Kumar.\\n', 'I am from Samastipur, bihar\\n', 'I like coding and play online games\\n', 'Currently I am studying in gla university, \\n', 'Mathura,U.PCurrently I am studying in gla university, \\n', '    Mathura,U.PCurrently I am studying in gla university, \\n', '    Mathura,U.PCurrently I am studying in gla university, \\n', '    Mathura,U.PCurrently I am studying in gla university, \\n', '    Mathura,U.P\\n', '\\n', 'Currently I am studying in gla university, \\n', '    Mathura,U.P\\n']\n",
      "['My name is Sunil Kumar.\\n', 'I am from Samastipur, bihar\\n', 'I like coding and play online games\\n', 'Currently I am studying in gla university, \\n', 'Mathura,U.PCurrently I am studying in gla university, \\n', '    Mathura,U.PCurrently I am studying in gla university, \\n', '    Mathura,U.PCurrently I am studying in gla university, \\n', '    Mathura,U.PCurrently I am studying in gla university, \\n', '    Mathura,U.P\\n', '\\n', 'Currently I am studying in gla university, \\n', '    Mathura,U.P\\n']\n",
      "['My name is Sunil Kumar.\\n', 'I am from Samastipur, bihar\\n', 'I like coding and play online games\\n', 'Currently I am studying in gla university, \\n', 'Mathura,U.PCurrently I am studying in gla university, \\n', '    Mathura,U.PCurrently I am studying in gla university, \\n', '    Mathura,U.PCurrently I am studying in gla university, \\n', '    Mathura,U.PCurrently I am studying in gla university, \\n', '    Mathura,U.P\\n', '\\n', 'Currently I am studying in gla university, \\n', '    Mathura,U.P\\n']\n",
      "['My name is Sunil Kumar.\\n', 'I am from Samastipur, bihar\\n', 'I like coding and play online games\\n', 'Currently I am studying in gla university, \\n', 'Mathura,U.PCurrently I am studying in gla university, \\n', '    Mathura,U.PCurrently I am studying in gla university, \\n', '    Mathura,U.PCurrently I am studying in gla university, \\n', '    Mathura,U.PCurrently I am studying in gla university, \\n', '    Mathura,U.P\\n', '\\n', 'Currently I am studying in gla university, \\n', '    Mathura,U.P\\n']\n",
      "['My name is Sunil Kumar.\\n', 'I am from Samastipur, bihar\\n', 'I like coding and play online games\\n', 'Currently I am studying in gla university, \\n', 'Mathura,U.PCurrently I am studying in gla university, \\n', '    Mathura,U.PCurrently I am studying in gla university, \\n', '    Mathura,U.PCurrently I am studying in gla university, \\n', '    Mathura,U.PCurrently I am studying in gla university, \\n', '    Mathura,U.P\\n', '\\n', 'Currently I am studying in gla university, \\n', '    Mathura,U.P\\n']\n",
      "['My name is Sunil Kumar.\\n', 'I am from Samastipur, bihar\\n', 'I like coding and play online games\\n', 'Currently I am studying in gla university, \\n', 'Mathura,U.PCurrently I am studying in gla university, \\n', '    Mathura,U.PCurrently I am studying in gla university, \\n', '    Mathura,U.PCurrently I am studying in gla university, \\n', '    Mathura,U.PCurrently I am studying in gla university, \\n', '    Mathura,U.P\\n', '\\n', 'Currently I am studying in gla university, \\n', '    Mathura,U.P\\n']\n"
     ]
    }
   ],
   "source": [
    "with open('test.txt','r+') as f:\n",
    "    lst = f.readlines()\n",
    "    for line in lst:\n",
    "        line.rstrip('\\n')\n",
    "        print(lst)"
   ]
  },
  {
   "cell_type": "code",
   "execution_count": 1,
   "metadata": {},
   "outputs": [
    {
     "name": "stdout",
     "output_type": "stream",
     "text": [
      "Hello\n",
      "Python\n",
      "None <class 'NoneType'>\n"
     ]
    }
   ],
   "source": [
    "out = print('Hello') or print('Python')\n",
    "print(out,type(out))"
   ]
  },
  {
   "cell_type": "markdown",
   "metadata": {},
   "source": [
    "find the frequency of each caracter of string using dictionary comprehension"
   ]
  },
  {
   "cell_type": "code",
   "execution_count": 3,
   "metadata": {},
   "outputs": [
    {
     "name": "stdout",
     "output_type": "stream",
     "text": [
      "{'b': 1, 'a': 3, 'n': 2}\n"
     ]
    }
   ],
   "source": [
    "st1 = input(\"Enter the string\")\n",
    "dct = {}\n",
    "for i in st1:\n",
    "    if i in dct:\n",
    "        dct[i] += 1\n",
    "    else :\n",
    "        dct[i] = 1\n",
    "\n",
    "print(dct)\n"
   ]
  },
  {
   "cell_type": "code",
   "execution_count": 4,
   "metadata": {},
   "outputs": [
    {
     "name": "stdout",
     "output_type": "stream",
     "text": [
      "{'b': 1, 'a': 3, 'n': 2}\n"
     ]
    }
   ],
   "source": [
    "text = input()\n",
    "char_count = { char : text.count(char) for char in text }\n",
    "print(char_count)"
   ]
  },
  {
   "cell_type": "code",
   "execution_count": 11,
   "metadata": {},
   "outputs": [
    {
     "ename": "SyntaxError",
     "evalue": "incomplete input (2537483322.py, line 12)",
     "output_type": "error",
     "traceback": [
      "\u001b[1;36m  Input \u001b[1;32mIn [11]\u001b[1;36m\u001b[0m\n\u001b[1;33m    print(\"No Exception\")\u001b[0m\n\u001b[1;37m                         ^\u001b[0m\n\u001b[1;31mSyntaxError\u001b[0m\u001b[1;31m:\u001b[0m incomplete input\n"
     ]
    }
   ],
   "source": [
    "try:\n",
    "    try:\n",
    "        raise TypeError\n",
    "    except ValueError :\n",
    "        print(\"inner Exception handled\")\n",
    "        print(\"next command\")\n",
    "\n",
    "    except TypeError:\n",
    "        print(\"outer Exception handled\")\n",
    "\n",
    "    else :\n",
    "        print(\"No Exception\")\n"
   ]
  }
 ],
 "metadata": {
  "interpreter": {
   "hash": "174431907c5a3a3d8f7e2e7cb73f928ab3dc752d1e615a732e533d1fbeec22df"
  },
  "kernelspec": {
   "display_name": "Python 3.10.4 64-bit",
   "language": "python",
   "name": "python3"
  },
  "language_info": {
   "codemirror_mode": {
    "name": "ipython",
    "version": 3
   },
   "file_extension": ".py",
   "mimetype": "text/x-python",
   "name": "python",
   "nbconvert_exporter": "python",
   "pygments_lexer": "ipython3",
   "version": "3.10.4"
  },
  "orig_nbformat": 4
 },
 "nbformat": 4,
 "nbformat_minor": 2
}
