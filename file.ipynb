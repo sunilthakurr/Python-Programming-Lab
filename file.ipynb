{
 "cells": [
  {
   "cell_type": "markdown",
   "metadata": {},
   "source": [
    "To read the txt file"
   ]
  },
  {
   "cell_type": "code",
   "execution_count": 8,
   "metadata": {},
   "outputs": [
    {
     "name": "stdout",
     "output_type": "stream",
     "text": [
      "My name is Sunil Kumar\n",
      "Hello World\n"
     ]
    }
   ],
   "source": [
    "a = open('trial.txt')           \n",
    "print(a.read())\n",
    "a.close()"
   ]
  },
  {
   "cell_type": "markdown",
   "metadata": {},
   "source": [
    "to read single line"
   ]
  },
  {
   "cell_type": "code",
   "execution_count": 9,
   "metadata": {},
   "outputs": [
    {
     "name": "stdout",
     "output_type": "stream",
     "text": [
      "My name is Sunil Kumar\n",
      "\n"
     ]
    }
   ],
   "source": [
    "a = open('trial.txt')           \n",
    "print(a.readline())\n",
    "a.close()"
   ]
  },
  {
   "cell_type": "markdown",
   "metadata": {},
   "source": [
    "we pass value inside readline to read that no. of characters maxm it read single lines"
   ]
  },
  {
   "cell_type": "code",
   "execution_count": null,
   "metadata": {},
   "outputs": [],
   "source": [
    "a = open('trial.txt')           \n",
    "print(a.readline(100))\n",
    "a.close()"
   ]
  },
  {
   "cell_type": "markdown",
   "metadata": {},
   "source": [
    "readlines : it returns the list of all lines in file\n",
    "tell : it tells the position of cursor (used to find the number of characters)"
   ]
  },
  {
   "cell_type": "code",
   "execution_count": 18,
   "metadata": {},
   "outputs": [
    {
     "name": "stdout",
     "output_type": "stream",
     "text": [
      "['My name is Sunil Kumar\\n']\n"
     ]
    }
   ],
   "source": [
    "a = open('trial.txt')           \n",
    "print(a.readlines())\n",
    "print(a.tell())\n",
    "a.close()"
   ]
  },
  {
   "cell_type": "markdown",
   "metadata": {},
   "source": [
    "to open program in write mode\n",
    "in write mode we can write single lines\n",
    "in writelines we can write multiple lines within triple quotes"
   ]
  },
  {
   "cell_type": "code",
   "execution_count": 23,
   "metadata": {},
   "outputs": [],
   "source": [
    "with open('trial.txt','w') as f:\n",
    "    f.write(\"My name is Sunil Kumar\\n\")\n",
    "    f.writelines('''Hello everyone\n",
    "my name is Sunil kumar \n",
    "and i am pro\\n''')"
   ]
  },
  {
   "cell_type": "markdown",
   "metadata": {},
   "source": [
    "Append : it extends the txt file and doesn't overwrite in the file\n",
    "it has all the features of write without overwriting on previous file\n",
    "it creates the new file if no file is found\n",
    "we doesn't use read function inside this"
   ]
  },
  {
   "cell_type": "code",
   "execution_count": 26,
   "metadata": {},
   "outputs": [],
   "source": [
    "with open('trial.txt','a') as f:\n",
    "    f.write('hello world\\n')"
   ]
  },
  {
   "cell_type": "markdown",
   "metadata": {},
   "source": [
    "first read lines and then add extra lines in file "
   ]
  },
  {
   "cell_type": "code",
   "execution_count": 2,
   "metadata": {},
   "outputs": [
    {
     "name": "stdout",
     "output_type": "stream",
     "text": [
      "\n"
     ]
    }
   ],
   "source": [
    "with open('trial.txt') as f:\n",
    "    print(f.read())\n",
    "with open('trial.txt','a') as f:\n",
    "    print('rachit',file = f)\n",
    "    "
   ]
  },
  {
   "cell_type": "markdown",
   "metadata": {},
   "source": [
    "To copy one file content to another"
   ]
  },
  {
   "cell_type": "code",
   "execution_count": 1,
   "metadata": {},
   "outputs": [],
   "source": [
    "with open('trial.txt') as f,open('trial2.txt','w') as g:\n",
    "    for lines in f.readlines():\n",
    "        g.write(lines)"
   ]
  },
  {
   "cell_type": "markdown",
   "metadata": {},
   "source": [
    "To interchange one file content to other"
   ]
  },
  {
   "cell_type": "code",
   "execution_count": 35,
   "metadata": {},
   "outputs": [],
   "source": [
    "with open('trial.txt') as f, open('trial2.txt') as g:\n",
    "    lst1 = f.readlines()\n",
    "    lst2 = g.readlines()\n",
    "    with open('trial.txt','w') as f,open('trial2.txt','w') as g:\n",
    "        for lines in lst1:\n",
    "            g.write(lines)\n",
    "        for lines in lst2:\n",
    "            f.write(lines)\n"
   ]
  },
  {
   "cell_type": "code",
   "execution_count": null,
   "metadata": {},
   "outputs": [],
   "source": []
  }
 ],
 "metadata": {
  "interpreter": {
   "hash": "174431907c5a3a3d8f7e2e7cb73f928ab3dc752d1e615a732e533d1fbeec22df"
  },
  "kernelspec": {
   "display_name": "Python 3.10.4 64-bit",
   "language": "python",
   "name": "python3"
  },
  "language_info": {
   "codemirror_mode": {
    "name": "ipython",
    "version": 3
   },
   "file_extension": ".py",
   "mimetype": "text/x-python",
   "name": "python",
   "nbconvert_exporter": "python",
   "pygments_lexer": "ipython3",
   "version": "3.10.4"
  },
  "orig_nbformat": 4
 },
 "nbformat": 4,
 "nbformat_minor": 2
}
